{
 "cells": [
  {
   "cell_type": "code",
   "execution_count": 2,
   "id": "543da59a-9d74-4601-81cd-d3471f4020f3",
   "metadata": {},
   "outputs": [],
   "source": [
    "import pandas as pd\n",
    "import matplotlib.pyplot as plt"
   ]
  },
  {
   "cell_type": "code",
   "execution_count": 13,
   "id": "255156bd-340e-46de-b003-3fdd1a045159",
   "metadata": {},
   "outputs": [],
   "source": [
    "scores = '/Users/lauren/Documents/Lab_Documents/Projects/SONG10/2022-05-10_validation_scores.csv'\n",
    "labels = '/Users/lauren/Documents/Lab_Documents/Projects/SONG10/2022-05-10_validation.csv'\n",
    "positive_classes = ['GHOW_adult','BADO_adult']"
   ]
  },
  {
   "cell_type": "code",
   "execution_count": 14,
   "id": "a22a3f24-afc8-4476-900d-a7361be3368d",
   "metadata": {},
   "outputs": [
    {
     "data": {
      "text/plain": [
       "(array([[ 0.,  0.,  0.,  0.,  0.,  0.,  0.,  0.,  0.,  0.,  0.,  0.,  0.,\n",
       "          0.,  0.,  0.,  0.,  0.,  0.,  0.,  0.,  0.,  2.,  3.,  2.,  6.,\n",
       "          3., 11.,  2.,  4.],\n",
       "        [ 1.,  0.,  0.,  1.,  2.,  5.,  4.,  5.,  3., 10.,  5.,  3.,  4.,\n",
       "          7.,  4.,  9.,  4.,  5.,  1.,  2.,  0.,  2.,  0.,  0.,  1.,  0.,\n",
       "          0.,  0.,  0.,  0.]]),\n",
       " array([-8.38433500e+01, -8.00328993e+01, -7.62224487e+01, -7.24119980e+01,\n",
       "        -6.86015473e+01, -6.47910967e+01, -6.09806460e+01, -5.71701953e+01,\n",
       "        -5.33597447e+01, -4.95492940e+01, -4.57388433e+01, -4.19283927e+01,\n",
       "        -3.81179420e+01, -3.43074913e+01, -3.04970407e+01, -2.66865900e+01,\n",
       "        -2.28761393e+01, -1.90656887e+01, -1.52552380e+01, -1.14447873e+01,\n",
       "        -7.63433667e+00, -3.82388600e+00, -1.34353333e-02,  3.79701533e+00,\n",
       "         7.60746600e+00,  1.14179167e+01,  1.52283673e+01,  1.90388180e+01,\n",
       "         2.28492687e+01,  2.66597193e+01,  3.04701700e+01]),\n",
       " <a list of 2 list[Polygon] objects>)"
      ]
     },
     "execution_count": 14,
     "metadata": {},
     "output_type": "execute_result"
    },
    {
     "data": {
      "text/plain": [
       "Text(0.5, 1.0, 'GHOW_adult')"
      ]
     },
     "execution_count": 14,
     "metadata": {},
     "output_type": "execute_result"
    },
    {
     "data": {
      "text/plain": [
       "Text(0.5, 0, 'score')"
      ]
     },
     "execution_count": 14,
     "metadata": {},
     "output_type": "execute_result"
    },
    {
     "data": {
      "text/plain": [
       "Text(0, 0.5, 'count')"
      ]
     },
     "execution_count": 14,
     "metadata": {},
     "output_type": "execute_result"
    },
    {
     "data": {
      "image/png": "[encoded data removed]",
      "text/plain": [
       "<Figure size 432x288 with 1 Axes>"
      ]
     },
     "metadata": {
      "needs_background": "light"
     },
     "output_type": "display_data"
    },
    {
     "data": {
      "text/plain": [
       "(array([[ 0.,  0.,  0.,  0.,  0.,  0.,  0.,  0.,  0.,  0.,  0.,  0.,  0.,\n",
       "          0.,  0.,  0.,  0.,  0.,  0.,  0.,  0.,  0.,  0.,  1.,  0.,  2.,\n",
       "         11., 13., 10.,  4.],\n",
       "        [ 1.,  0.,  0.,  0.,  0.,  2.,  2.,  2.,  4.,  4.,  4.,  6.,  3.,\n",
       "          2.,  6.,  5.,  2.,  1.,  5.,  8.,  3.,  3.,  1.,  1.,  2.,  1.,\n",
       "          0.,  0.,  2.,  0.]]),\n",
       " array([-116.08551   , -111.60165883, -107.11780767, -102.6339565 ,\n",
       "         -98.15010533,  -93.66625417,  -89.182403  ,  -84.69855183,\n",
       "         -80.21470067,  -75.7308495 ,  -71.24699833,  -66.76314717,\n",
       "         -62.279296  ,  -57.79544483,  -53.31159367,  -48.8277425 ,\n",
       "         -44.34389133,  -39.86004017,  -35.376189  ,  -30.89233783,\n",
       "         -26.40848667,  -21.9246355 ,  -17.44078433,  -12.95693317,\n",
       "          -8.473082  ,   -3.98923083,    0.49462033,    4.9784715 ,\n",
       "           9.46232267,   13.94617383,   18.430025  ]),\n",
       " <a list of 2 list[Polygon] objects>)"
      ]
     },
     "execution_count": 14,
     "metadata": {},
     "output_type": "execute_result"
    },
    {
     "data": {
      "text/plain": [
       "Text(0.5, 1.0, 'BADO_adult')"
      ]
     },
     "execution_count": 14,
     "metadata": {},
     "output_type": "execute_result"
    },
    {
     "data": {
      "text/plain": [
       "Text(0.5, 0, 'score')"
      ]
     },
     "execution_count": 14,
     "metadata": {},
     "output_type": "execute_result"
    },
    {
     "data": {
      "text/plain": [
       "Text(0, 0.5, 'count')"
      ]
     },
     "execution_count": 14,
     "metadata": {},
     "output_type": "execute_result"
    },
    {
     "data": {
      "image/png": "[encoded data removed]",
      "text/plain": [
       "<Figure size 432x288 with 1 Axes>"
      ]
     },
     "metadata": {
      "needs_background": "light"
     },
     "output_type": "display_data"
    }
   ],
   "source": [
    "scores = pd.read_csv(scores).set_index('file')\n",
    "labels = pd.read_csv(labels).set_index('file')\n",
    "\n",
    "for cl in positive_classes:\n",
    "    \n",
    "    pos_labels = labels.loc[labels[cl]==1]\n",
    "    neg_labels = labels.drop(pos_labels.index.tolist())\n",
    "    pos_scores = scores.drop(neg_labels.index.tolist())\n",
    "    pos_scores = pos_scores[cl].tolist()\n",
    "    neg_scores = scores.drop(pos_labels.index.tolist())\n",
    "    neg_scores = neg_scores[cl].tolist()\n",
    "    plt.hist([pos_scores,neg_scores],alpha=0.5,bins=30,histtype='stepfilled')\n",
    "    plt.title(cl)\n",
    "    plt.xlabel('score')\n",
    "    plt.ylabel('count')\n",
    "    plt.show()"
   ]
  },
  {
   "cell_type": "code",
   "execution_count": null,
   "id": "a0ab195f-af80-4f3f-9292-35697bed5965",
   "metadata": {},
   "outputs": [],
   "source": []
  }
 ],
 "metadata": {
  "kernelspec": {
   "display_name": "Python 3 (ipykernel)",
   "language": "python",
   "name": "python3"
  },
  "language_info": {
   "codemirror_mode": {
    "name": "ipython",
    "version": 3
   },
   "file_extension": ".py",
   "mimetype": "text/x-python",
   "name": "python",
   "nbconvert_exporter": "python",
   "pygments_lexer": "ipython3",
   "version": "3.8.13"
  }
 },
 "nbformat": 4,
 "nbformat_minor": 5
}
